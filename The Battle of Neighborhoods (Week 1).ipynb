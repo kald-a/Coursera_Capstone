{
    "cells": [
        {
            "cell_type": "markdown",
            "metadata": {},
            "source": "# Coursera Capstone Project\n\n## The Battle of Neighborhoods (Week 1)\n"
        },
        {
            "cell_type": "markdown",
            "metadata": {},
            "source": "### Part 1 : Introduction and Data Sections"
        },
        {
            "cell_type": "code",
            "execution_count": 1,
            "metadata": {},
            "outputs": [
                {
                    "name": "stdout",
                    "output_type": "stream",
                    "text": "Solving environment: done\n\n# All requested packages already installed.\n\nLibraries imported.\n"
                }
            ],
            "source": "import numpy as np # library to handle data in a vectorized manner\nimport time\nimport pandas as pd # library for data analsysis\npd.set_option('display.max_columns', None)\npd.set_option('display.max_rows', None)\n\nimport json # library to handle JSON files\nimport requests # library to handle requests\nfrom pandas.io.json import json_normalize # tranform JSON file into a pandas dataframe\n\nfrom geopy.geocoders import Nominatim # convert an address into latitude and longitude values\n!conda install -c conda-forge folium=0.5.0 --yes # uncomment this line if you haven't completed the Foursquare API lab\nimport folium # map rendering library\n\nprint('Libraries imported.')"
        },
        {
            "cell_type": "markdown",
            "metadata": {},
            "source": "### Coursera Capstone - REPORT CONTENT\n\n1.\tIntroduction Section : \n\t\u2043\tDiscussion of the business problem and the interested audience in this project.\n2.\tData Section:  \n\t\u2043\t Description of the data that will be used to solve the problem and the sources.\n3.\tMethodology section \n\t\u2043\tDiscussion and description of exploratory data analysis carried out, any inferential statistical testing performed, and if any machine learnings were used establishing the strategy and purposes.\n4.\tResults section \n\t\u2043\tDiscussion of the results.\n5.\tDiscussion section \n\t\u2043\tElaboration and discussion on any observations noted and any recommendations suggested based on the results.\n6.\tConclusion section \n\t\u2043\tReport Conclusion."
        },
        {
            "cell_type": "markdown",
            "metadata": {},
            "source": "# A description of the problem and a discussion of the background. (15 marks)"
        },
        {
            "cell_type": "markdown",
            "metadata": {},
            "source": "# 1.\tIntroduction Section : \n### Discussion of the business problem and the audience who would be interested in this project.\n"
        },
        {
            "cell_type": "markdown",
            "metadata": {},
            "source": "### Description of the Problem and Background\n\n### Scenario:\n\nLets assumed I got client residing in Downtown Singapore. \nhe currently live within walking distance to Downtown Telok Ayer MRT metro station.\nhe have been offered a great opportunity to work for a leader firm in Manhattan, NY.\nThe key question is :  How can he find a convenient and enjoyable place similar to where he live now in Singapore?\nIn order to make a comparison and evaluation of the rental options in Manhattan NY, I must set some basis, therefore the apartment in Manhattan must meet the following demands:\n - apartment must be 2 or 3 bedrooms\n - desired location is near a metro station in the Manhattan area and within 1.0 mile (1.6 km) radius\n - price of rent not exceed $7,000 per month\n - top ammenities in the selected neighborhood shall be similar to current residence\n - desirable to have venues such as coffee shops, restaurants Asian Thai, wine stores, gym and food shops\n - as a reference, I have included a map of venues near his current residence in Singapore.\n    "
        },
        {
            "cell_type": "markdown",
            "metadata": {},
            "source": "### Business Problem:   \nThe challenge is to find a suitable apartment for rent in Manhattan NY that complies with the demands on location, price and venues. The data required to resolve this challenge is described in the following section 2, below.\n\n\n### Interested Audience\nI believe this is a relevant challenge with valid questions for anyone moving to other large city in US, EU or Asia. The same methodology can be applied in accordance to demands as applicable. This case is also applicable for anyone interested in exploring starting or locating a new business in any city. Lastly, it can also serve as a good practical exercise to develop Data Science skills.\n"
        },
        {
            "cell_type": "markdown",
            "metadata": {},
            "source": "# A description of the data and how it will be used to solve the problem. (15 marks)"
        },
        {
            "cell_type": "markdown",
            "metadata": {},
            "source": "# 2. Data Section:\u00b6\n### Description of the data and its sources that will be used to solve the problem"
        },
        {
            "cell_type": "markdown",
            "metadata": {},
            "source": "### Description of the Data:\u00b6\n\nThe following data is required to  answer the issues of the problem:\n\n- List of Boroughs and neighborhoods of Manhattan with their geodata (latitud and longitud) \n- List of Subway metro stations in Manhattan with their address location \n- List of apartments for rent in Manhattan area with their addresses and price\n- Preferably, a list of apartment for rent with additional information, such as price, address, area, # of beds, etc\n- Venues for each Manhattan neighborhood ( than can be clustered)\n- Venues for subway metro stations, as needed\n\n\n### How the data will be used to solve the problem\n\nThe data will be used as follows:\n- Use Foursquare and geopy data to map top 10 venues for all Manhattan neighborhoods and clustered in groups ( as per Course LAB)\n- Use foursquare and geopy data to map the location of subway metro stations , separately and on top of the above clustered map in order to be able to identify the venues and ammenities near each metro station, or explore each subway location separately\n- Use Foursquare and geopy data to map the location of rental places, in some form, linked to the subway locations.\n- create a map that depicts, for instance, the average rental price per square ft, around a radious of 1.0 mile (1.6 km) around each subway station - or a similar metrics. I will be able to quickly point to the popups to know the relative price per subway area.\n- Addresses from rental locations will be converted to geodata( lat, long) using Geopy-distance and Nominatim.\n- Data will be searched in open data sources if available, from real estate sites if open to reading, libraries or other government agencies such as Metro New York MTA, etc.\n\n\nThe procesing of these DATA will allow to answer the key questions to make a decision:\n- what is the cost of rent (per square ft) around a mile radius from each subway metro station?\n- what is the area of Manhattan with best rental pricing that meets criteria established?\n- What is the distance from work place ( Park Ave and 53 rd St) and the tentative future home?\n- What are the venues of the two best places to live? How the prices compare?\n- How venues distribute among Manhattan neighborhoods and around metro stations?\n- Are there tradeoffs between size and price and location?\n- Any other interesting statistical data findings of the real estate and overall data.\n\n"
        },
        {
            "cell_type": "markdown",
            "metadata": {},
            "source": "### Reference of venues around current residence in Singapore for comparison to Manhattan place"
        },
        {
            "cell_type": "code",
            "execution_count": 2,
            "metadata": {},
            "outputs": [
                {
                    "name": "stderr",
                    "output_type": "stream",
                    "text": "/opt/conda/envs/Python36/lib/python3.6/site-packages/ipykernel/__main__.py:4: DeprecationWarning: Using Nominatim with the default \"geopy/1.20.0\" `user_agent` is strongly discouraged, as it violates Nominatim's ToS https://operations.osmfoundation.org/policies/nominatim/ and may possibly cause 403 and 429 HTTP errors. Please specify a custom `user_agent` with `Nominatim(user_agent=\"my-application\")` or by overriding the default `user_agent`: `geopy.geocoders.options.default_user_agent = \"my-application\"`. In geopy 2.0 this will become an exception.\n"
                },
                {
                    "name": "stdout",
                    "output_type": "stream",
                    "text": "The geograpical coordinate of Singapore home are 1.2787941, 103.848846.\n"
                }
            ],
            "source": "# Shenton Way, District 01, Singapore\naddress = 'Mccallum Street, Singapore'\n\ngeolocator = Nominatim()\nlocation = geolocator.geocode(address)\nlatitude = location.latitude\nlongitude = location.longitude\nprint('The geograpical coordinate of Singapore home are {}, {}.'.format(latitude, longitude))"
        },
        {
            "cell_type": "code",
            "execution_count": 3,
            "metadata": {},
            "outputs": [],
            "source": "neighborhood_latitude=1.2792655\nneighborhood_longitude=103.8480938"
        },
        {
            "cell_type": "code",
            "execution_count": 4,
            "metadata": {},
            "outputs": [
                {
                    "name": "stdout",
                    "output_type": "stream",
                    "text": "Your credentails:\nCLIENT_ID: RTSKS4NEGYECVTIHANHAFJT0Y2K2MFEE1XWQHUEULAN4FWDR\nCLIENT_SECRET: KKA4UAN5CQGRYLBVFN5RZGEKL20XBDYKHBIKMB1GJHLP3YE2\n"
                }
            ],
            "source": "CLIENT_ID = 'RTSKS4NEGYECVTIHANHAFJT0Y2K2MFEE1XWQHUEULAN4FWDR' # your Foursquare ID\nCLIENT_SECRET = 'KKA4UAN5CQGRYLBVFN5RZGEKL20XBDYKHBIKMB1GJHLP3YE2' # your Foursquare Secret\nVERSION = '20180604'\nLIMIT = 30\nprint('Your credentails:')\nprint('CLIENT_ID: ' + CLIENT_ID)\nprint('CLIENT_SECRET: ' + CLIENT_SECRET)"
        },
        {
            "cell_type": "code",
            "execution_count": 5,
            "metadata": {},
            "outputs": [
                {
                    "data": {
                        "text/plain": "'https://api.foursquare.com/v2/venues/explore?&client_id=RTSKS4NEGYECVTIHANHAFJT0Y2K2MFEE1XWQHUEULAN4FWDR&client_secret=KKA4UAN5CQGRYLBVFN5RZGEKL20XBDYKHBIKMB1GJHLP3YE2&v=20180604&ll=1.2792655,103.8480938&radius=500&limit=100'"
                    },
                    "execution_count": 5,
                    "metadata": {},
                    "output_type": "execute_result"
                }
            ],
            "source": "\nLIMIT = 100 # limit of number of venues returned by Foursquare API\nradius = 500 # define radius\n\n# create URL\nurl = 'https://api.foursquare.com/v2/venues/explore?&client_id={}&client_secret={}&v={}&ll={},{}&radius={}&limit={}'.format(\n    CLIENT_ID, \n    CLIENT_SECRET, \n    VERSION, \n    neighborhood_latitude, \n    neighborhood_longitude, \n    radius, \n    LIMIT)\nurl # display URL"
        },
        {
            "cell_type": "code",
            "execution_count": 6,
            "metadata": {},
            "outputs": [],
            "source": "results = requests.get(url).json()\n#results"
        },
        {
            "cell_type": "code",
            "execution_count": 7,
            "metadata": {},
            "outputs": [],
            "source": "# function that extracts the category of the venue\ndef get_category_type(row):\n    try:\n        categories_list = row['categories']\n    except:\n        categories_list = row['venue.categories']\n        \n    if len(categories_list) == 0:\n        return None\n    else:\n        return categories_list[0]['name']"
        },
        {
            "cell_type": "code",
            "execution_count": 9,
            "metadata": {},
            "outputs": [
                {
                    "data": {
                        "text/html": "<div>\n<style scoped>\n    .dataframe tbody tr th:only-of-type {\n        vertical-align: middle;\n    }\n\n    .dataframe tbody tr th {\n        vertical-align: top;\n    }\n\n    .dataframe thead th {\n        text-align: right;\n    }\n</style>\n<table border=\"1\" class=\"dataframe\">\n  <thead>\n    <tr style=\"text-align: right;\">\n      <th></th>\n      <th>name</th>\n      <th>categories</th>\n      <th>lat</th>\n      <th>lng</th>\n    </tr>\n  </thead>\n  <tbody>\n    <tr>\n      <th>0</th>\n      <td>Napoleon Food &amp; Wine Bar</td>\n      <td>Wine Bar</td>\n      <td>1.279925</td>\n      <td>103.847333</td>\n    </tr>\n    <tr>\n      <th>1</th>\n      <td>Pepper Bowl</td>\n      <td>Asian Restaurant</td>\n      <td>1.279371</td>\n      <td>103.846710</td>\n    </tr>\n    <tr>\n      <th>2</th>\n      <td>Native</td>\n      <td>Cocktail Bar</td>\n      <td>1.280135</td>\n      <td>103.846844</td>\n    </tr>\n    <tr>\n      <th>3</th>\n      <td>Muchachos</td>\n      <td>Burrito Place</td>\n      <td>1.279072</td>\n      <td>103.847026</td>\n    </tr>\n    <tr>\n      <th>4</th>\n      <td>Park Bench Deli</td>\n      <td>Deli / Bodega</td>\n      <td>1.279872</td>\n      <td>103.847287</td>\n    </tr>\n    <tr>\n      <th>5</th>\n      <td>Mellower Coffee</td>\n      <td>Caf\u00e9</td>\n      <td>1.277814</td>\n      <td>103.848188</td>\n    </tr>\n    <tr>\n      <th>6</th>\n      <td>PS.Cafe</td>\n      <td>Caf\u00e9</td>\n      <td>1.280468</td>\n      <td>103.846264</td>\n    </tr>\n    <tr>\n      <th>7</th>\n      <td>Dumpling Darlings</td>\n      <td>Dumpling Restaurant</td>\n      <td>1.280483</td>\n      <td>103.846942</td>\n    </tr>\n    <tr>\n      <th>8</th>\n      <td>Sofitel So Singapore</td>\n      <td>Hotel</td>\n      <td>1.280124</td>\n      <td>103.849867</td>\n    </tr>\n    <tr>\n      <th>9</th>\n      <td>Coffee Break</td>\n      <td>Coffee Shop</td>\n      <td>1.279529</td>\n      <td>103.846695</td>\n    </tr>\n  </tbody>\n</table>\n</div>",
                        "text/plain": "                       name           categories       lat         lng\n0  Napoleon Food & Wine Bar             Wine Bar  1.279925  103.847333\n1               Pepper Bowl     Asian Restaurant  1.279371  103.846710\n2                    Native         Cocktail Bar  1.280135  103.846844\n3                 Muchachos        Burrito Place  1.279072  103.847026\n4           Park Bench Deli        Deli / Bodega  1.279872  103.847287\n5           Mellower Coffee                 Caf\u00e9  1.277814  103.848188\n6                   PS.Cafe                 Caf\u00e9  1.280468  103.846264\n7         Dumpling Darlings  Dumpling Restaurant  1.280483  103.846942\n8      Sofitel So Singapore                Hotel  1.280124  103.849867\n9              Coffee Break          Coffee Shop  1.279529  103.846695"
                    },
                    "execution_count": 9,
                    "metadata": {},
                    "output_type": "execute_result"
                }
            ],
            "source": "venues = results['response']['groups'][0]['items']\n    \nSGnearby_venues = json_normalize(venues) # flatten JSON\n\n# filter columns\nfiltered_columns = ['venue.name', 'venue.categories', 'venue.location.lat', 'venue.location.lng']\nSGnearby_venues =SGnearby_venues.loc[:, filtered_columns]\n\n# filter the category for each row\nSGnearby_venues['venue.categories'] = SGnearby_venues.apply(get_category_type, axis=1)\n\n# clean columns\nSGnearby_venues.columns = [col.split(\".\")[-1] for col in SGnearby_venues.columns]\n\nSGnearby_venues.head(10)"
        },
        {
            "cell_type": "markdown",
            "metadata": {},
            "source": "## Map of Singapore with venues near residence place - for reference "
        },
        {
            "cell_type": "code",
            "execution_count": 8,
            "metadata": {},
            "outputs": [
                {
                    "ename": "NameError",
                    "evalue": "name 'SGnearby_venues' is not defined",
                    "output_type": "error",
                    "traceback": [
                        "\u001b[0;31m---------------------------------------------------------------------------\u001b[0m",
                        "\u001b[0;31mNameError\u001b[0m                                 Traceback (most recent call last)",
                        "\u001b[0;32m<ipython-input-8-42bde57bbe13>\u001b[0m in \u001b[0;36m<module>\u001b[0;34m\u001b[0m\n\u001b[1;32m      3\u001b[0m \u001b[0;34m\u001b[0m\u001b[0m\n\u001b[1;32m      4\u001b[0m \u001b[0;31m# add markers to map\u001b[0m\u001b[0;34m\u001b[0m\u001b[0;34m\u001b[0m\u001b[0;34m\u001b[0m\u001b[0m\n\u001b[0;32m----> 5\u001b[0;31m \u001b[0;32mfor\u001b[0m \u001b[0mlat\u001b[0m\u001b[0;34m,\u001b[0m \u001b[0mlng\u001b[0m\u001b[0;34m,\u001b[0m \u001b[0mlabel\u001b[0m \u001b[0;32min\u001b[0m \u001b[0mzip\u001b[0m\u001b[0;34m(\u001b[0m\u001b[0mSGnearby_venues\u001b[0m\u001b[0;34m[\u001b[0m\u001b[0;34m'lat'\u001b[0m\u001b[0;34m]\u001b[0m\u001b[0;34m,\u001b[0m \u001b[0mSGnearby_venues\u001b[0m\u001b[0;34m[\u001b[0m\u001b[0;34m'lng'\u001b[0m\u001b[0;34m]\u001b[0m\u001b[0;34m,\u001b[0m \u001b[0mSGnearby_venues\u001b[0m\u001b[0;34m[\u001b[0m\u001b[0;34m'name'\u001b[0m\u001b[0;34m]\u001b[0m\u001b[0;34m)\u001b[0m\u001b[0;34m:\u001b[0m\u001b[0;34m\u001b[0m\u001b[0;34m\u001b[0m\u001b[0m\n\u001b[0m\u001b[1;32m      6\u001b[0m     \u001b[0mlabel\u001b[0m \u001b[0;34m=\u001b[0m \u001b[0mfolium\u001b[0m\u001b[0;34m.\u001b[0m\u001b[0mPopup\u001b[0m\u001b[0;34m(\u001b[0m\u001b[0mlabel\u001b[0m\u001b[0;34m,\u001b[0m \u001b[0mparse_html\u001b[0m\u001b[0;34m=\u001b[0m\u001b[0;32mTrue\u001b[0m\u001b[0;34m)\u001b[0m\u001b[0;34m\u001b[0m\u001b[0;34m\u001b[0m\u001b[0m\n\u001b[1;32m      7\u001b[0m     folium.RegularPolygonMarker(\n",
                        "\u001b[0;31mNameError\u001b[0m: name 'SGnearby_venues' is not defined"
                    ]
                }
            ],
            "source": "# create map of Singapore place  using latitude and longitude values\nmap_sg = folium.Map(location=[latitude, longitude], zoom_start=20)\n\n# add markers to map\nfor lat, lng, label in zip(SGnearby_venues['lat'], SGnearby_venues['lng'], SGnearby_venues['name']):\n    label = folium.Popup(label, parse_html=True)\n    folium.RegularPolygonMarker(\n        [lat, lng],\n        number_of_sides=4,\n        radius=10,\n        popup=label,\n        color='blue',\n        fill_color='#0f0f0f',\n        fill_opacity=0.7,\n    ).add_to(map_sg)  \n    \nmap_sg"
        },
        {
            "cell_type": "code",
            "execution_count": null,
            "metadata": {},
            "outputs": [],
            "source": ""
        }
    ],
    "metadata": {
        "kernelspec": {
            "display_name": "Python 3.6",
            "language": "python",
            "name": "python3"
        },
        "language_info": {
            "codemirror_mode": {
                "name": "ipython",
                "version": 3
            },
            "file_extension": ".py",
            "mimetype": "text/x-python",
            "name": "python",
            "nbconvert_exporter": "python",
            "pygments_lexer": "ipython3",
            "version": "3.6.8"
        }
    },
    "nbformat": 4,
    "nbformat_minor": 2
}